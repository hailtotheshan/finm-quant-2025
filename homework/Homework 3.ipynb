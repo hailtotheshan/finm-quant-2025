{
 "cells": [
  {
   "cell_type": "markdown",
   "id": "9ad18f5f",
   "metadata": {},
   "source": [
    "# FINM 25000 - Summer 2025\n",
    "### Instructor: Mark Hendricks\n",
    "\n",
    "## Homework #3\n",
    "*Thanks to **Lance Emry** for compiling this notebook from pdf.*\n",
    "\n",
    "**Background Case**: Smart Beta Exchange-Traded Funds and Factor Investing\n",
    "\n",
    "No need to study/review the entire case and all the exhibits beyond what is useful in addressing the\n",
    "homework questions. But they are interesting and very informative if you are inclined."
   ]
  },
  {
   "cell_type": "markdown",
   "id": "ebd45be7",
   "metadata": {},
   "source": [
    "***"
   ]
  },
  {
   "cell_type": "markdown",
   "id": "33d2ddce",
   "metadata": {},
   "source": [
    "## 1. Factor Investing \n",
    "\n",
    "*This section is not graded, and you do not need to submit your answers. We will discuss these issues in class.*\n",
    "\n",
    "1. **Describe the four factors**: Market, Size, Value, and Momentum.\n",
    "   - Are they constructed from portfolios going long stocks or portfolios that go long some stocks and short others?\n",
    "   - What is the point of figures 1–6?\n",
    "\n",
    "2. How is a “smart beta” ETF different from a traditional ETF?\n",
    "\n",
    "3. Is it possible for all investors to invest in the Value factor?\n",
    "\n",
    "4. How does factor investing differ from traditional diversification?"
   ]
  },
  {
   "cell_type": "markdown",
   "id": "0b3f69fd",
   "metadata": {},
   "source": [
    "***"
   ]
  },
  {
   "cell_type": "markdown",
   "id": "4a3920a5",
   "metadata": {},
   "source": [
    "## 2. Pricing Factors and Assets\n",
    "\n",
    "On Github, find the data files\n",
    "•# factor pricing data.xlsx\n",
    "Note that the FF factor labels are as follows:\n",
    "- Market: MKT\n",
    "- Size: SMB (Small Minus Big)\n",
    "- Value: HML (High Minus Low)\n",
    "- Momentum: UMD (Up Minus Down)\n",
    "\n",
    "\n",
    "### 1. The Factors\n",
    "Calculate their univariate performance statistics:\n",
    "- mean\n",
    "- volatility\n",
    "- Sharpe ratio\n",
    "- VaR(.05)\n",
    "\n",
    "Does each factor have a premium (positive expected excess return)?"
   ]
  },
  {
   "cell_type": "markdown",
   "id": "a033077d",
   "metadata": {},
   "source": [
    "### 2. Factor Correlations\n",
    "The factors are constructed in such a way as to reduce correlation between them.\n",
    "Report the correlation matrix across the three factors.\n",
    "- Does the construction method succeed in keeping correlations small?"
   ]
  },
  {
   "cell_type": "markdown",
   "id": "fff10e13",
   "metadata": {},
   "source": [
    "### 3. Cumulative Returns\n",
    "Plot the cumulative returns of the factors."
   ]
  },
  {
   "cell_type": "markdown",
   "id": "b66db661",
   "metadata": {},
   "source": [
    "### 4. Test Assets\n",
    "UThe “assets” tab provides monthly excess return data on various industry stock-portfolios.\n",
    "Denote these as $r^i$, for n = 1, . . . , 12.\n",
    "Calculate the (annualized) univariate statistics from 1.1.\n"
   ]
  },
  {
   "cell_type": "markdown",
   "id": "23c5e9b3",
   "metadata": {},
   "source": [
    "### 5. Mean-Variance Explanation\n",
    "Can the difference in mean excess returns of the portfolios be explained by differences in their volatilities? Or by their VaR(.05) statistics?"
   ]
  },
  {
   "cell_type": "markdown",
   "id": "f528cdc4",
   "metadata": {},
   "source": [
    "***"
   ]
  },
  {
   "cell_type": "markdown",
   "id": "cf246d73",
   "metadata": {},
   "source": [
    "## 3. CAPM\n",
    "The Capital Asset Pricing Model (CAPM) asserts that an asset (or portfolio’s) expected excess return is completely a function of its beta to the equity market index (SPY, or in this case, MKT.)\n",
    "\n",
    "Specifically, it asserts that, for any excess return, $\\tilde{r}^i$, its mean is proportional to the mean excess return of the market, $\\tilde{f}^{\\text{mkt}}$, where the proportionality is the regression beta of $\\tilde{r}^i$ on $\\tilde{f}^{\\text{mkt}}$:\n",
    "\n",
    "$$\n",
    "\\mathbb{E}[\\tilde{r}^i_t] = \\beta^{i, \\text{mkt}} \\, \\mathbb{E}[\\tilde{f}^{\\text{mkt}}_t] \\tag{CAPM}\n",
    "$$\n",
    "\n",
    "Let’s examine whether that seems plausible.\n",
    "\n",
    "### 1. Time-Series Regression\n",
    "For each of the n = 12 test assets, run the CAPM time-series regression:\n",
    "\n",
    "$$\\tilde{r}_i^t = \\alpha_i + \\beta_{i,\\text{mkt}} \\tilde{f}_{\\text{mkt}}^t + \\epsilon_i^t $$\n",
    "\n",
    "So you are running 12 separate regressions, each using the T-sized sample of time-series data."
   ]
  },
  {
   "cell_type": "markdown",
   "id": "738c0d02",
   "metadata": {},
   "source": [
    "### 2. Report Metrics\n",
    "Report the estimated $\\beta_{i,\\text{mkt}}$, Treynor Ratio, $\\alpha_i$, and Information Ratio for each of the n regressions "
   ]
  },
  {
   "cell_type": "markdown",
   "id": "39ec7390",
   "metadata": {},
   "source": [
    "### 3\n",
    "If (CAPM) were true, what would be true of the Treynor Ratios, alphas, and Information Ratios?"
   ]
  },
  {
   "cell_type": "markdown",
   "id": "6c209553",
   "metadata": {},
   "source": [
    "### 4 \n",
    "Calculate the mean-absolute-error of the estimated alphas, (one for each security $\\tilde{r^i})$. \n",
    "\n",
    "$$\n",
    "\\text{MAE} = \\frac{1}{n} \\sum_{i=1}^{n} |\\hat{\\alpha}^i|\n",
    "$$\n",
    "\n",
    "If the pricing model worked, should these alpha estimates be large or small? Why? Based on your MAE stat, does this seem to support the pricing model or not?"
   ]
  },
  {
   "cell_type": "markdown",
   "id": "0b53b955",
   "metadata": {},
   "source": [
    "***"
   ]
  },
  {
   "cell_type": "markdown",
   "id": "197a3b9b",
   "metadata": {},
   "source": [
    "## 4. A Multifactor Model \n",
    "Perhaps expected excess returns are determined by multiple factors, not just the market factor as hypothesized by the CAPM. Try the following 4-factor model: \n",
    "\n",
    "$$\n",
    "\\mathbb{E}[\\tilde{r}^i] = \\beta^{i,\\text{mkt}} \\, \\mathbb{E}[\\tilde{f}^{\\text{mkt}}] + \\beta^{i,\\text{smb}} \\, \\mathbb{E}[\\tilde{f}^{\\text{smb}}] + \\beta^{i,\\text{hml}} \\, \\mathbb{E}[\\tilde{f}^{\\text{hml}}] + \\beta^{i,\\text{umd}} \\, \\mathbb{E}[\\tilde{f}^{\\text{umd}}]\n",
    "$$\n",
    "\n",
    "Let’s use regression methods to test whether the selected four pricing factors work.\n",
    "For each equity security, estimate the following regression to test the 4-factor model:\n",
    "$$\n",
    "\\tilde{r}^i_t = \\alpha^i + \\beta^{i,\\text{mkt}} \\tilde{f}^{\\text{mkt}}_t + \\beta^{i,\\text{smb}} \\tilde{f}^{\\text{smb}}_t + \\beta^{i,\\text{hml}} \\tilde{f}^{\\text{hml}}_t + \\beta^{i,\\text{umd}} \\tilde{f}^{\\text{umd}}_t + \\epsilon_t\n",
    "$$\n",
    "So you are running that regression 12 times, once for each security $\\tilde{r^i}$\n",
    "\n",
    "### 1. Time-Series Regression (Four-Factor Model)\n",
    "For each regression, report the estimated $\\alpha$ and r-squared. "
   ]
  },
  {
   "cell_type": "markdown",
   "id": "b1fcfc0b",
   "metadata": {},
   "source": [
    "### 2\n",
    "Calculate the mean-absolute-error of the estimated alphas (one for each security, $\\tilde{r}^i$):\n",
    "\n",
    "$$\n",
    "\\text{MAE} = \\frac{1}{n} \\sum_{i=1}^{n} |\\hat{\\alpha}^i|\n",
    "$$\n",
    "\n",
    "If the pricing model worked, should these alpha estimates be large or small? Why? Based on your MAE stat, does this seem to support the pricing model or not?"
   ]
  },
  {
   "cell_type": "markdown",
   "id": "b2ee2eb2",
   "metadata": {},
   "source": [
    "***"
   ]
  },
  {
   "cell_type": "markdown",
   "id": "b0eb05f2",
   "metadata": {},
   "source": [
    "## 5. Extensions *(Ungraded)*\n",
    "\n",
    "This section is not graded, and you do not need to submit your answers. This is only provided for those interested in further study.\n",
    "\n"
   ]
  },
  {
   "cell_type": "markdown",
   "id": "8c58575d",
   "metadata": {},
   "source": [
    "### 1. Pricing Factors and Mean-Variance Optimality\n",
    "\n",
    "The Fundamental Theorem of Asset Pricing says that these priced factors are sufficient to construct the Tangency Portfolio. Let’s examine both of those implications for the excess returns of the 4 factors, $\\tilde{f}^i$, as tested on the industry equity excess returns $\\tilde{r}^i$.\n",
    "\n",
    "(a) Use the “RF” factor in the Fama-French data to convert both the factor data and the equity data into excess returns.\n",
    "\n",
    "(b) Report the mean excess return for the four factors. Are they all strongly positive? If one of the means is negative, what would that say about the pricing model?\n",
    "\n",
    "(c) Report the correlation matrix of the four factors’ excess returns.\n",
    "\n",
    "(d) Use both the equity data, $\\tilde{r}$, and factor data, $\\tilde{f}$, to construct the tangency portfolio weights.  \n",
    "Report the weights.\n",
    "\n",
    "(e) Is much weight put on the equity data, or is most of the weight on the factors?\n",
    "\n",
    "(f) If the factors were sufficient for pricing, what should we find?\n",
    "\n",
    "\n",
    "\n",
    "\n",
    "\n"
   ]
  },
  {
   "cell_type": "markdown",
   "id": "35181f18",
   "metadata": {},
   "source": [
    "### 2. Testing Pricing Models with Cross-Sectional Regression\n",
    "\n",
    "Let’s further evaluate whether the pricing model in (1) works. Instead of evaluating the alphas from the time-series regressions, we try to directly estimate (1). Run the following cross-sectional regression:\n",
    "\n",
    "$$\n",
    "\\bar{r}^i_t = \\theta + \\phi^{\\text{mkt}} \\hat{\\beta}^{i,\\text{mkt}} + \\phi^{\\text{smb}} \\hat{\\beta}^{i,\\text{smb}} + \\phi^{\\text{hml}} \\hat{\\beta}^{i,\\text{hml}} + \\phi^{\\text{umd}} \\hat{\\beta}^{i,\\text{umd}} + \\nu^i \\tag{3}\n",
    "$$\n",
    "\n",
    "This may seem like a strange regression, but it is the estimated version of (1).\n",
    "\n",
    "- It is a cross-sectional regression, not a time-series regression. That is, we are running one single regression, with 12 data points, one for each security.\n",
    "\n",
    "- The left-side variable is the sample average of each equity’s excess return, $\\bar{r}^i$.\n",
    "\n",
    "- The right-side regressors are the estimated betas (12 sets of them) from the previous (12) time-series regressions.\n",
    "\n",
    "- The errors, usually denoted $\\epsilon_t$ are now $\\nu^i$, (one for each security.)\n",
    "\n",
    "- This regression will return an intercept, which we are calling $\\theta$. Usually we call the regression intercept $\\alpha$, but that would be confusing given that we used $\\alpha$ to denote the intercepts of the time series regressions.\n",
    "\n",
    "- This regression will return regression “betas” that we are notating $\\phi$. So in this regression, $X$ is actually the estimates betas from the time-series regressions in (2) and $\\beta$ is actually $\\phi$.\n",
    "\n",
    "<sub>¹excluding SHV, since we already have a risk-free rate.</sub>\n",
    "\n",
    "Report the r-squared from (3). Also report the estimate for θ and for the four ϕ\n",
    "\n",
    "\n",
    "\n"
   ]
  },
  {
   "cell_type": "markdown",
   "id": "1223d75a",
   "metadata": {},
   "source": [
    "### 3 \n",
    "\n",
    "If the pricing model worked, what would we expect for this r-squared, θ, and ϕ?"
   ]
  },
  {
   "cell_type": "markdown",
   "id": "bd2ed688",
   "metadata": {},
   "source": [
    "### 4 \n",
    "\n",
    "Is your conclusion that this model seems to work, or not?"
   ]
  },
  {
   "cell_type": "markdown",
   "id": "89905289",
   "metadata": {},
   "source": [
    "### 5 \n",
    "\n",
    "Would you expect a linear factor pricing model to work better on an industry ETF, (portfolio,) or on a single-name equity?\n"
   ]
  }
 ],
 "metadata": {
  "kernelspec": {
   "display_name": "Python 3 (ipykernel)",
   "language": "python",
   "name": "python3"
  },
  "language_info": {
   "codemirror_mode": {
    "name": "ipython",
    "version": 3
   },
   "file_extension": ".py",
   "mimetype": "text/x-python",
   "name": "python",
   "nbconvert_exporter": "python",
   "pygments_lexer": "ipython3",
   "version": "3.10.18"
  }
 },
 "nbformat": 4,
 "nbformat_minor": 5
}
